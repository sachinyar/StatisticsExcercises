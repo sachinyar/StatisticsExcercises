{
 "cells": [
  {
   "cell_type": "code",
   "execution_count": 2,
   "metadata": {},
   "outputs": [
    {
     "name": "stdout",
     "output_type": "stream",
     "text": [
      "7.657894736842105\n"
     ]
    },
    {
     "data": {
      "text/plain": [
       "7.657894736842105"
      ]
     },
     "execution_count": 2,
     "metadata": {},
     "output_type": "execute_result"
    }
   ],
   "source": [
    "import numpy as np\n",
    "import pandas as pd\n",
    "cohort_df= pd.read_csv (\"1.1 - MLAI+C3+Cohort+data.csv\")\n",
    "cohort_df.head()\n",
    "cohort_df.describe()\n",
    "\n",
    "cohort_df['dfexp'] = cohort_df['YearsOfExp'].str.extract('(\\d+)')\n",
    "cohort_df['dfexp'] = cohort_df.dfexp.astype(int)\n",
    "S = cohort_df.dfexp.sum()\n",
    "avg = S / cohort_df.dfexp.count()\n",
    "print(avg)\n",
    "\n",
    "cohort_df['AvgYearsOfExp'] = cohort_df['YearsOfExp'].map(lambda x : x.rstrip('+')).astype(int)\n",
    "cohort_df.head()\n",
    "cohort_df.AvgYearsOfExp.mean()"
   ]
  },
  {
   "cell_type": "code",
   "execution_count": 4,
   "metadata": {},
   "outputs": [
    {
     "name": "stdout",
     "output_type": "stream",
     "text": [
      "   Customer No.  Exposure at Default (in lakh Rs.)  Recovery (%)  \\\n",
      "0             1                              11.50        0.2000   \n",
      "1             2                               0.24        0.0510   \n",
      "2             3                               0.04        0.2486   \n",
      "3             4                              13.81        0.0229   \n",
      "4             5                              19.84        0.0347   \n",
      "\n",
      "   Probability of Default  Unnamed: 4  Unnamed: 5  Expected Loss in Lakh Rs.  \n",
      "0                  0.0070         NaN         NaN                   0.064400  \n",
      "1                  0.0033         NaN         NaN                   0.000752  \n",
      "2                  0.0022         NaN         NaN                   0.000066  \n",
      "3                  0.0066         NaN         NaN                   0.089059  \n",
      "4                  0.0020         NaN         NaN                   0.038303  \n",
      "493.39131440619997\n"
     ]
    }
   ],
   "source": [
    "# Expected Loss\n",
    "# Now, the bank wants to find the total expected loss. This is done by calculating the expected losses \n",
    "# for each of the 10,000 customers and then adding them up.\n",
    "# The data for all the customers of the bank is given in the file Inferential Statistics - Student Loan.csv. \n",
    "# What would be the value of the total expected loss?\n",
    "\n",
    "import numpy as np\n",
    "import pandas as pd\n",
    "df = pd.read_csv (\"3.1 - Inferential Statistics - Student Loan.csv\")\n",
    "# df.head()\n",
    "# df.describe()\n",
    "\n",
    "df['Recovery (%)'] = df['Recovery (%)'].str.replace('%','')\n",
    "df['Recovery (%)'] = df['Recovery (%)'].astype(str).astype(float)\n",
    "df['Recovery (%)'] = df['Recovery (%)'].apply(lambda x:x/100)\n",
    "\n",
    "xloss = (df['Probability of Default'] * df['Exposure at Default (in lakh Rs.)'] * (1 - df['Recovery (%)']))\n",
    "df['Expected Loss in Lakh Rs.'] = xloss\n",
    "\n",
    "print(df.head())\n",
    "print(df['Expected Loss in Lakh Rs.'].sum())"
   ]
  },
  {
   "cell_type": "markdown",
   "metadata": {},
   "source": [
    "Now, let’s say that we define the random variable X as Kriti’s net winnings if she plays this game and bets £100 on the number 5. What is the expected value of X?\n",
    "There are two possible values of X, 3,500 and -100. The probability of Kriti’s net winnings being 3,500 is basically the probability of her winning the game, which, as we saw in a previous question, is 1/37. The probability of her net winnings being equal to -100 is basically the probability of her losing the game, which is 36/37. So, the expected value of X = P(X=-100)*(-100) + P(X=3500)*3500 = (36/37)*(-100)+(1/37)*(3500) = -2.70."
   ]
  },
  {
   "cell_type": "code",
   "execution_count": 5,
   "metadata": {},
   "outputs": [
    {
     "name": "stdout",
     "output_type": "stream",
     "text": [
      "-2.702702702702709\n"
     ]
    }
   ],
   "source": [
    "print(3500*(1/37)-100*(36/37))"
   ]
  },
  {
   "cell_type": "markdown",
   "metadata": {},
   "source": [
    "The only difference between the American roulette wheel and the one you saw before, i.e. the European roulette wheel, is that, in addition to the numbers 0 to 36, it contains a number ‘00’. The player can bet on any number from 1 to 36.\n",
    "Now, again, let’s define the random variable X as Kriti’s net winnings if she plays this game and bets £100 on the number 5. What is the expected value of X this time?\n",
    "\n",
    " Again, there are two possible values of X, 3,500 and -100. However, this time, the probability of Kriti’s net winnings being 3,500 is 1/38, as there are a total of 38 possible outcomes. The probability of her net winnings being equal to -100, basically the probability of her losing the game, is now 37/38. So, the expected value of X = P(X=-100)*(-100) + P(X=3500)*3500 = (37/38)*(-100)+(1/38)*(3500) = -5.26."
   ]
  },
  {
   "cell_type": "code",
   "execution_count": 6,
   "metadata": {},
   "outputs": [
    {
     "name": "stdout",
     "output_type": "stream",
     "text": [
      "0.02631578947368421\n",
      "0.9736842105263158\n",
      "-5.26315789473685\n"
     ]
    }
   ],
   "source": [
    "pxWin = 1/38   #P(X=3500)\n",
    "print(pxWin)\n",
    "pxLoss = 37/38 #P(X=-100) \n",
    "print(pxLoss)\n",
    "# ExpectValX = P(X=-100) * (-100) + P(X=3500)*3500\n",
    "ExpectValX = pxWin*3500 - pxLoss*100\n",
    "print(ExpectValX)"
   ]
  },
  {
   "cell_type": "markdown",
   "metadata": {},
   "source": [
    "# binomial probability distribution, uniform probability distribution, Cumulative probability\n"
   ]
  },
  {
   "cell_type": "markdown",
   "metadata": {},
   "source": [
    "binomial distribution is applicable in situations where there are a fixed number of yes or no questions, with the probability of a yes or a no remaining the same in all the questions.\n",
    " \n",
    " e.g. \n",
    " Now, the test is modified by adding 5 true and false questions to the set of 10 MCQs. The student does not know the answer to the new questions either and randomly selects true or false for each of them too.\n",
    "\n",
    "Now, according to binomial distribution, the probability that she would still get 5 of the 15 questions (5 true/false Qs, and 10 MCQs with 4 options) correct is:\n",
    "\n",
    "Binomial probability cannot be used here\n",
    " For 10 of the questions (MCQs), the probability of success is p = 1 / 4. However, for the remaining 5 questions (T/F questions), the probability of success is p = 1 / 2. Hence, you cannot use binomial probability here, as the probability of success is not the same in all the trials."
   ]
  },
  {
   "cell_type": "code",
   "execution_count": 7,
   "metadata": {},
   "outputs": [
    {
     "name": "stdout",
     "output_type": "stream",
     "text": [
      "0.6\n",
      "0.4\n",
      "P(2 red balls) =  0.36\n",
      "P(2 blue balls) =  0.16000000000000003\n",
      "P(1 red ball and 1 blue ball) =  0.24\n",
      "P(1 blue ball and 1 red ball) =  0.24\n"
     ]
    }
   ],
   "source": [
    "pr = 3/5\n",
    "print(pr)\n",
    "pb = 2/5\n",
    "print(pb)\n",
    "rr = (3/5) * (3/5)\n",
    "print(\"P(2 red balls) = \", rr)\n",
    "bb = (2/5) * (2/5)\n",
    "print(\"P(2 blue balls) = \", bb)\n",
    "rb = (3/5) * (2/5)\n",
    "print(\"P(1 red ball and 1 blue ball) = \", rb)\n",
    "br = (2/5) * (3/5)\n",
    "print(\"P(1 blue ball and 1 red ball) = \", br)"
   ]
  },
  {
   "cell_type": "markdown",
   "metadata": {},
   "source": [
    "the cumulative probability of X, denoted by F(x), is defined as the probability of the variable being less than or equal to x.\n",
    "In mathematical terms, you would write cumulative probability F(x) = P(X<x). For example, F(4) = P(X<4), F(3) = P(X<3)."
   ]
  },
  {
   "cell_type": "markdown",
   "metadata": {},
   "source": [
    "You can Use Excel or R for the calculations for this part. Use \"COMBIN(n,r)\" in Excel and \"choose(n,r)\" in R to find nCr"
   ]
  },
  {
   "cell_type": "markdown",
   "metadata": {},
   "source": [
    "All data that is normally distributed follows the 1-2-3 rule. This rule states that there is a -\n",
    "1. 68% probability of the variable lying within 1 standard deviation of the mean\n",
    "2. 95% probability of the variable lying within 2 standard deviations of the mean\n",
    "3. 99.7% probability of the variable lying within 3 standard deviations of the mean"
   ]
  },
  {
   "cell_type": "code",
   "execution_count": 8,
   "metadata": {},
   "outputs": [
    {
     "name": "stdout",
     "output_type": "stream",
     "text": [
      "0.84\n"
     ]
    }
   ],
   "source": [
    "onesigma = 68\n",
    "twosigma = 95\n",
    "threesigma = 99.7\n",
    "ths = (threesigma-onesigma)/2\n",
    "res = onesigma+ths\n",
    "print(str(round(res/100, 2)))"
   ]
  },
  {
   "cell_type": "code",
   "execution_count": 9,
   "metadata": {},
   "outputs": [
    {
     "name": "stdout",
     "output_type": "stream",
     "text": [
      "-1.9600000000000002 1.9599999999999995\n",
      "95.0 %\n"
     ]
    }
   ],
   "source": [
    "z1 = (25.2 - 35) / 5\n",
    "z2 = (44.8 - 35) / 5\n",
    "print(z1, z2)\n",
    "ans = 0.975 - 0.025 \n",
    "print(ans*100,\"%\")"
   ]
  },
  {
   "cell_type": "markdown",
   "metadata": {},
   "source": [
    "Not only that, you can also use Excel or Python to find the cumulative probability for Z. For example, let’s say you want to find the cumulative probability for Z = 1.5. In Excel, you would type:\n",
    "\n",
    " \n",
    "\n",
    "= NORM.S.DIST(1.5, TRUE)\n",
    "\n",
    "Basically, the syntax is:\n",
    "\n",
    "= NORM.S.DIST(z, TRUE)\n",
    "\n",
    " \n",
    "\n",
    "Here, z is the value of the Z score for which you want to find the cumulative probability. TRUE = find cumulative probability, FALSE = find probability density.\n",
    "\n",
    " \n",
    "\n",
    "Also, you can find the probability without standardising. Let’s say that X is normally distributed, with mean (μ) = 35 and standard deviation (σ) = 5. Now, if you want to find the cumulative probability for X = 30, you would type:\n",
    "\n",
    " \n",
    "\n",
    "= NORM.DIST(30, 35, 5, TRUE)\n",
    "\n",
    "Basically, the syntax is:\n",
    "\n",
    "= NORM.DIST(x, mean, standard_dev, TRUE)"
   ]
  },
  {
   "cell_type": "markdown",
   "metadata": {},
   "source": [
    "What is the probability of a normally distributed random variable lying within 1.65 standard deviations of the mean?\n",
    "[You can use the Z table here.]\n",
    "\n",
    "You have to find the probability of the variable lying between μ-1.65σ and μ+1.65σ. i.e. P(μ-1.65σ < X < μ+1.65σ). In terms of Z, this becomes P(-1.65 < Z < +1.65). \n",
    "This would be equal to P(1.65) - P(-1.65) = 0.95 - 0.05 = 0.90."
   ]
  },
  {
   "cell_type": "markdown",
   "metadata": {},
   "source": [
    "What is the standard deviation of our sampling distribution? (The data for the 100 sample means is given in the CSV file upgrad_samples.csv).\n",
    "\n",
    "0.4248\n",
    "\n",
    " Using the mean from the previous question, you can find the standard deviation using the formula given at https://www.mathsisfun.com/data/standard-deviation-formulas.html\n",
    ". Note that you would divide by n and not n-1 as you have the data for all 100 entries of the distribution and you don't need to sample the distribution. Now, using the formula, you get that the value of the standard deviation of the distribution is 0.4248."
   ]
  },
  {
   "cell_type": "code",
   "execution_count": 10,
   "metadata": {},
   "outputs": [
    {
     "name": "stdout",
     "output_type": "stream",
     "text": [
      "Mean =  2.3480000000000003\n",
      "Standerd deviation =  0.42698851497340296\n"
     ]
    }
   ],
   "source": [
    "import numpy as np\n",
    "import pandas as pd\n",
    "df = pd.read_csv (\"5.1 - Inferntial Statistics - UpGrad Samples.csv\")\n",
    "\n",
    "SampleMean = np.array(df['Sample Mean'])\n",
    "print(\"Mean = \", SampleMean.mean())\n",
    "print(\"Standerd deviation = \", SampleMean.std(ddof=1)) #for sample standard deviation, supply an optional ddof parameter to std()"
   ]
  },
  {
   "cell_type": "markdown",
   "metadata": {},
   "source": [
    "So, the central limit theorem says that, for any kind of data, provided a high number of samples has been taken, the following properties hold true:\n",
    "\n",
    "Sampling distribution’s mean (μX) = Population mean (μ)\n",
    "\n",
    "Sampling distribution’s standard deviation (Standard error) = σ√n\n",
    "\n",
    "For n > 30, the sampling distribution becomes a normal distribution"
   ]
  },
  {
   "cell_type": "code",
   "execution_count": 11,
   "metadata": {},
   "outputs": [
    {
     "name": "stdout",
     "output_type": "stream",
     "text": [
      "mean = 0.42\n",
      "sd =  0.4960449637488582\n"
     ]
    }
   ],
   "source": [
    "mean = ((1*42)+(0*58))/100\n",
    "#So, the standard deviation is equal to its square root, i.e. 0.496 or 49.6%\n",
    "sd = np.sqrt(((((1 - 0.42)**2)*42) + (((0 - 0.42)**2)*58))/99)\n",
    "print(\"mean =\", mean)\n",
    "print(\"sd = \", sd)"
   ]
  },
  {
   "cell_type": "code",
   "execution_count": 12,
   "metadata": {},
   "outputs": [
    {
     "name": "stdout",
     "output_type": "stream",
     "text": [
      "90% confidence interval is between 50.17 -and- 50.83\n",
      "95% confidence interval is between 50.108 -and- 50.892\n",
      "99% confidence interval is between 49.984 -and- 51.016\n"
     ]
    }
   ],
   "source": [
    "x = (((1.65*.2)/np.sqrt(10000))*100)\n",
    "print(\"90% confidence interval is between\", 50.5-x, \"-and-\", 50.5+x)\n",
    "x = (((1.96*.2)/np.sqrt(10000))*100)\n",
    "print(\"95% confidence interval is between\", 50.5-x, \"-and-\", 50.5+x)\n",
    "x = (((2.58*.2)/np.sqrt(10000))*100)\n",
    "print(\"99% confidence interval is between\", 50.5-x, \"-and-\", 50.5+x)"
   ]
  },
  {
   "cell_type": "code",
   "execution_count": 13,
   "metadata": {},
   "outputs": [
    {
     "name": "stdout",
     "output_type": "stream",
     "text": [
      "19.6\n",
      "95% confidence interval is between 510.4 -and- 549.6\n",
      "16.5\n",
      "90% confidence interval is between 513.5 -and- 546.5\n"
     ]
    }
   ],
   "source": [
    "MOE = ((1.96*100)/np.sqrt(100))\n",
    "print(MOE)\n",
    "print(\"95% confidence interval is between\", 530-MOE, \"-and-\", 530+MOE)\n",
    "MOE = ((1.65*100)/np.sqrt(100))\n",
    "print(MOE)\n",
    "print(\"90% confidence interval is between\", 530-MOE, \"-and-\", 530+MOE)"
   ]
  },
  {
   "cell_type": "code",
   "execution_count": 14,
   "metadata": {},
   "outputs": [
    {
     "name": "stdout",
     "output_type": "stream",
     "text": [
      "9.721599999999999\n",
      "95% confidence interval for BJP is between 48.278400000000005  and  67.7216\n",
      "9.721599999999999\n",
      "95% confidence interval for INC is between 32.278400000000005  and  51.721599999999995\n"
     ]
    }
   ],
   "source": [
    "MOE = ((1.96*49.6)/np.sqrt(100))\n",
    "print(MOE)\n",
    "print(\"95% confidence interval for BJP is between\", 58-MOE, \" and \", 58+MOE)\n",
    "MOE = ((1.96*49.6)/np.sqrt(100))\n",
    "print(MOE)\n",
    "print(\"95% confidence interval for INC is between\", 42-MOE, \" and \", 42+MOE)"
   ]
  },
  {
   "cell_type": "markdown",
   "metadata": {},
   "source": [
    "Not make any claims regarding the election results for ward 75N\n",
    "The percentage of voters that voted for BJP, falls within the interval (48.28%, 67.72%). The interval for the percentage of voters that voted for INC is (32.28%, 51.72%). Hence, anything is possible. It is possible that BJP gets 67.72% of the votes and wins the election, but it is also possible that INC could get 51.72% of the votes and win the election for ward 75N. Hence, you cannot decide the winner based on this information."
   ]
  },
  {
   "cell_type": "code",
   "execution_count": 15,
   "metadata": {},
   "outputs": [
    {
     "name": "stdout",
     "output_type": "stream",
     "text": [
      "Mean =  45571.0\n",
      "Standard deviation =  7457.521851178448\n",
      "N =  200\n",
      "MOE =  870.0886048494972\n",
      "90% confidence interval for rental is between 44701.0  and  46441.0\n",
      "MOE =  1033.5597972757666\n",
      "95% confidence interval for rental is between 44537.0  and  46605.0\n",
      "MOE =  1360.5021821283049\n",
      "99% confidence interval for rental is between 44210.0  and  46932.0\n"
     ]
    }
   ],
   "source": [
    "# As a data analyst working for Ghar ki Baat, you are tasked with finding the average rent for all \n",
    "# 2 BHK fully furnished flats in Powai, Mumbai, using this data.\n",
    "\n",
    "import numpy as np\n",
    "import pandas as pd\n",
    "df = pd.read_csv (\"7.1 Inferential Statistics - Powai Flats Rent.csv\")\n",
    "df.describe()\n",
    "# What is the 90% confidence interval for the monthly rent in rupees?\n",
    "\n",
    "rentalData = np.array(df['Monthly Rent'])\n",
    "mean = rentalData.mean()\n",
    "sd = rentalData.std(ddof=1) # shold be 7457, so for the sample standard deviation, supply an optional ddof parameter to std()\n",
    "N = df['Monthly Rent'].count()\n",
    "print(\"Mean = \", mean)\n",
    "print(\"Standard deviation = \", sd)\n",
    "print(\"N = \", N)\n",
    "\n",
    "MOE = ((1.65*sd)/np.sqrt(N)) #margin of error\n",
    "print(\"MOE = \", MOE)\n",
    "print(\"90% confidence interval for rental is between\", round(mean-MOE), \" and \", round(mean+MOE))\n",
    "\n",
    "MOE = ((1.96*sd)/np.sqrt(N)) #margin of error\n",
    "print(\"MOE = \", MOE)\n",
    "print(\"95% confidence interval for rental is between\", round(mean-MOE), \" and \", round(mean+MOE))\n",
    "\n",
    "MOE = ((2.58*sd)/np.sqrt(N)) #margin of error\n",
    "print(\"MOE = \", MOE)\n",
    "print(\"99% confidence interval for rental is between\", round(mean-MOE), \" and \", round(mean+MOE))\n"
   ]
  }
 ],
 "metadata": {
  "kernelspec": {
   "display_name": "Python 3",
   "language": "python",
   "name": "python3"
  },
  "language_info": {
   "codemirror_mode": {
    "name": "ipython",
    "version": 3
   },
   "file_extension": ".py",
   "mimetype": "text/x-python",
   "name": "python",
   "nbconvert_exporter": "python",
   "pygments_lexer": "ipython3",
   "version": "3.6.5"
  }
 },
 "nbformat": 4,
 "nbformat_minor": 2
}
