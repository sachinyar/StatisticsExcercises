{
 "cells": [
  {
   "cell_type": "markdown",
   "metadata": {},
   "source": [
    "1. What will be the standard deviation of the distribution of sample means if the population has a mean of 350 and a standard deviation of 90, a sample mean of 370.16, and a sample size of 36?\n",
    "\n",
    "Ans: The standard deviation of a distribution of sample means is obtained by dividing the population standard deviation by the square root of the sample size. So, 90/√36 = 90/6 = 15."
   ]
  },
  {
   "cell_type": "code",
   "execution_count": 1,
   "metadata": {},
   "outputs": [
    {
     "data": {
      "text/plain": [
       "15.0"
      ]
     },
     "execution_count": 1,
     "metadata": {},
     "output_type": "execute_result"
    }
   ],
   "source": [
    "#90/√36\n",
    "90/6"
   ]
  },
  {
   "cell_type": "markdown",
   "metadata": {},
   "source": [
    "## Critical Value Method"
   ]
  },
  {
   "cell_type": "markdown",
   "metadata": {},
   "source": [
    "Calculate the value of Zc from the given value of α (significance level).\n",
    "\n",
    "Calculate the z-critical score for the two-tailed test at 3% significance level.\n",
    "\n",
    "For 3% significance level, you would have two critical regions on both sides with a total area of 0.03. So, the area of the critical region on the right side would be 0.015, which means that the area till UCV (cumulative probability of that point) would be 1 - 0.015 = 0.985. So, you need to find the z-score of 0.985.\n",
    "\n",
    "For 3% significance level, you would have two critical regions on both sides with a total area of 0.03. So, the area of the critical region on the right side would be 0.015, which means that the area till UCV (cumulative probability of that point) would be 1 - 0.015 = 0.985. So, you need to find the z-value of 0.985. The z-score for 0.9850 in the z-table is 2.17 (2.1 on the horizontal axis and 0.07 on the vertical axis).\n",
    "\n",
    "2nd step: Calculate the critical values (UCV and LCV) from the value of Zc.\n",
    "\n",
    "Find out the UCV and LCV values for Zc = 2.17.\n",
    "\n",
    "μ = 36 months        σ = 4 months       n (Sample size) = 49\n",
    "\n",
    "σxbar = σ/√n, \n",
    "\n",
    "UCV = μ + (Zc * σxbar)\n",
    "LCV = μ - (Zc * σxbar)\n",
    "\n",
    "UCV = 37.24 and LCV = 34.76\n",
    "\n",
    "Feedback : The critical values can be calculated from μ ± Zc x (σ/√N) as 36 ± 2.17(4/√49) = 36 ± 1.24 \n",
    "which comes out to be 37.24 and 34.76.\n"
   ]
  },
  {
   "cell_type": "code",
   "execution_count": 2,
   "metadata": {},
   "outputs": [
    {
     "name": "stdout",
     "output_type": "stream",
     "text": [
      "0.5714285714285714\n",
      "1.24\n",
      "UCV = 37.24 and LCV = 34.76\n"
     ]
    }
   ],
   "source": [
    "import numpy as np\n",
    "\n",
    "Zc = 2.17\n",
    "sigmasd = 4\n",
    "n = 49\n",
    "mean = 36\n",
    "sigmaxbar = sigmasd/np.sqrt(n)\n",
    "print(sigmaxbar)\n",
    "prodofzcSigmabar = Zc * sigmaxbar\n",
    "print(prodofzcSigmabar)\n",
    "UCV = mean + (prodofzcSigmabar)\n",
    "LCV = mean - (prodofzcSigmabar)\n",
    "print(\"UCV =\", UCV, \"and\", \"LCV =\", LCV)"
   ]
  },
  {
   "cell_type": "markdown",
   "metadata": {},
   "source": [
    "3rd step: Make the decision on the basis of the value of the sample mean x with respect to the critical values (UCV AND LCV).\n",
    "\n",
    "What would be the result of this hypothesis test?\n",
    "\n",
    "UCV = 37.24 months                 LCV = 34.76 months              Sample mean (¯x) = 34.5 months\n",
    "\n",
    "Reject the null hypothesis\n",
    "\n",
    "Feedback : The UCV and LCV values for this test are 37.24 and 34.76. The sample mean in this case is 34.5 months, which is less than LCV. So, this implies that the sample mean lies in the critical region and you can reject the null hypothesis."
   ]
  },
  {
   "cell_type": "markdown",
   "metadata": {},
   "source": [
    "## next problem"
   ]
  },
  {
   "cell_type": "markdown",
   "metadata": {},
   "source": [
    "Consider this problem — H₀: μ ≤ 350 and H₁: μ > 350\n",
    "\n",
    "In case of a two-tailed test, you find the z-score of 0.975 in the z-table, since 0.975 was cumulative probability of UCV in that case. In this problem, what would be the cumulative probability of critical point in this example for the same significance level of 5%?\n",
    "\n",
    "0.950\n",
    "Feedback : In this problem, the area of the critical region beyond the only critical point, which is on the right side, is 0.05 (in the last problem, it was 0.025). So, the cumulative probability of the critical point (the total area till that point) would be 0.950.\n",
    "\n",
    "Consider this problem — H₀: μ ≤ 350 and H₁: μ > 350\n",
    "\n",
    "In case of a two-tailed test, you find the z-score of 0.975 in the z-table, since 0.975 was cumulative probability of UCV in that case. In this problem, what would be the cumulative probability of critical point in this example for the same significance level of 5%?\n",
    "\n",
    "Feedback : In this problem, the area of the critical region beyond the only critical point, which is on the right side, is 0.05 (in the last problem, it was 0.025). So, the cumulative probability of the critical point (the total area till that point) would be 0.950.\n",
    "\n",
    "Consider this problem — H₀: μ ≤ 350 and H₁: μ > 350\n",
    "\n",
    "The next step would be to find the Zc, which would basically be the z-score for the value of 0.950. Look at the z-table and find the value of Zc.\n",
    "\n",
    "Find 0.950 in the z-table. If 0.950 is not there, find out the two values closest to 0.950 and take their average to find the required Zc.\n",
    "\n",
    "0.950 is not there in the z-table. So, look for the numbers nearest to 0.950. You can see that the z-score for 0.9495 is 1.64 (1.6 on the horizontal bar and 0.04 on the vertical bar), and the z-score for 0.9505 is 1.65. So, taking the average of these two, the z-score for 0.9500 is 1.645."
   ]
  },
  {
   "cell_type": "code",
   "execution_count": 3,
   "metadata": {},
   "outputs": [
    {
     "data": {
      "text/plain": [
       "1.645"
      ]
     },
     "execution_count": 3,
     "metadata": {},
     "output_type": "execute_result"
    }
   ],
   "source": [
    "(1.65+1.64)/2"
   ]
  },
  {
   "cell_type": "markdown",
   "metadata": {},
   "source": [
    "Consider this problem, H₀: μ ≤ 350 and H₁: μ > 350\n",
    "\n",
    "So, the Zc comes out to be 1.645. Now, find the critical value for the given Zc and make the decision to accept or reject the null hypothesis.\n",
    "\n",
    "μ = 350     σ = 90       N (Sample size) = 36    ¯x= 370.16\n"
   ]
  },
  {
   "cell_type": "code",
   "execution_count": 4,
   "metadata": {},
   "outputs": [
    {
     "name": "stdout",
     "output_type": "stream",
     "text": [
      "15.0\n",
      "24.675\n",
      "UCV = 374.675\n",
      "Critical value =  374.675 and Decision = Fail to reject the null hypothesis\n"
     ]
    }
   ],
   "source": [
    "Zc = 1.645\n",
    "sigma = 90\n",
    "n = 36\n",
    "mean = 350\n",
    "sigmaxbar = sigma/np.sqrt(n)\n",
    "print(sigmaxbar)\n",
    "prodofzcSigmabar = Zc * sigmaxbar\n",
    "print(prodofzcSigmabar)\n",
    "UCV = mean + (prodofzcSigmabar)\n",
    "print(\"UCV =\", UCV)\n",
    "xbar = 370.16\n",
    "if xbar > UCV:\n",
    "    print(\"Critical value = \", UCV, \"and Decision = reject the null hypothesis\")\n",
    "else:\n",
    "    print(\"Critical value = \", UCV, \"and Decision = Fail to reject the null hypothesis\")\n",
    "        "
   ]
  },
  {
   "cell_type": "markdown",
   "metadata": {},
   "source": [
    "Critical value = 374.67 and Decision = Fail to reject the null hypothesis\n",
    "\n",
    "The critical value can be calculated from μ + Zc x (σ/√N). 350 + 1.645(90/√36) = 374.67. Since 370.16 (¯x) is less than 374.67, \n",
    "¯x lies in the acceptance region and you fail to reject the null hypothesis.\n"
   ]
  },
  {
   "cell_type": "markdown",
   "metadata": {},
   "source": [
    "## third problem "
   ]
  },
  {
   "cell_type": "markdown",
   "metadata": {},
   "source": [
    "Government regulatory bodies have specified that the maximum permissible amount of lead in any food product is 2.5 parts per million or 2.5 ppm. Let’s say you are an analyst working at the food regulatory body of India FSSAI. Suppose you take 100 random samples of Sunshine from the market and have them tested for the amount of lead. The mean lead content turns out to be 2.6 ppm with a standard deviation of 0.6.\n",
    "\n",
    "One thing you can notice here is that the standard deviation of the sample is given as 0.6, instead of the population’s standard deviation. In such a case, you can approximate the population’s standard deviation to the sample’s standard deviation, which is 0.6 in this case.\n",
    "\n",
    "Answer the following questions in order to find out if a regulatory alarm should be raised against Sunshine or not, at 3% significance level.\n",
    "\n",
    "Select the correct null and alternate hypotheses in this case.\n",
    "\n",
    "H₀: Average lead content ≤ 2.5 ppm and H₁: Average lead content > 2.5 ppm\n",
    "\n",
    "The null hypothesis is your assumption about the population — it is based on the status quo. It always makes an argument about the population using the equality sign. The null hypothesis in this case would be that the average lead content in the food material is less than or equal to 2.5 ppm. And the alternate hypothesis is that the average lead content is greater than 2.5 ppm.\n",
    "\n",
    "Calculate the z-critical score for this test at 3% significance level.\n",
    "\n",
    "1 - 0.03 = 0.97\n",
    "\n",
    "from z table near by valus are 1.88 and 1.89 average of these two is 1.8849 or 1.885\n",
    "\n",
    "This is a one-tailed test. So, for 3% significance level, you would have only one critical region on the right side with a total area of 0.03. This means that the area till the critical point (the cumulative probability of that point) would be 1 - 0.030 = 0.970. So, you need to find the z-value of 0.970. The z-score for 0.9699 (~0.970) in the z-table is 1.88.\n",
    "\n",
    "Now, you need to find out the critical values and make a decision on whether to raise a regulatory alarm against Sunshine or not. Select the correct option.\n",
    "\n"
   ]
  },
  {
   "cell_type": "code",
   "execution_count": 5,
   "metadata": {},
   "outputs": [
    {
     "name": "stdout",
     "output_type": "stream",
     "text": [
      "Standard deviation = 0.6\n",
      "Sigma xbar = 0.06\n",
      "Product of zc and Sigma bar = 0.11279999999999998\n",
      "UCV = 2.6128\n",
      "Critical value =  2.6128 and Decision = Fail to reject the null hypothesis (H₀: Average lead content ≤ 2.5 ppm)\n",
      "Don’t raise a regulatory alarm\n"
     ]
    }
   ],
   "source": [
    "Zc = 1.88\n",
    "sigma = 0.6\n",
    "print(\"Standard deviation =\", sigma)\n",
    "n = 100\n",
    "mean = 2.5\n",
    "sigmaxbar = sigma/np.sqrt(n)\n",
    "print(\"Sigma xbar =\", sigmaxbar)\n",
    "prodofzcSigmabar = Zc * sigmaxbar\n",
    "print(\"Product of zc and Sigma bar =\", prodofzcSigmabar)\n",
    "UCV = mean + (prodofzcSigmabar)\n",
    "print(\"UCV =\", UCV)\n",
    "xbar = 2.6 #sample Mean\n",
    "if xbar > UCV:\n",
    "    print(\"Critical value = \", UCV, \"and Decision = reject the null hypothesis (H₀: Average lead content ≤ 2.5 ppm)\")\n",
    "    print(\"Raise a regulatory alarm\")\n",
    "else:\n",
    "    print(\"Critical value = \", UCV, \"and Decision = Fail to reject the null hypothesis (H₀: Average lead content ≤ 2.5 ppm)\")\n",
    "    print(\"Don’t raise a regulatory alarm\")\n",
    "        "
   ]
  },
  {
   "cell_type": "markdown",
   "metadata": {},
   "source": [
    "The critical value can be calculated from μ + Zc x (σ/​√N​), as 2.5 + 1.88(0.6 /​√100​) = 2.61 ppm . You need to use the + sign since the critical value is on the right-hand side (upper-tailed test). Since the sample mean 2.6 ppm is less than the critical value (2.61 ppm), you fail to reject the null hypothesis and don’t raise a regulatory alarm against Sunshine."
   ]
  },
  {
   "cell_type": "markdown",
   "metadata": {},
   "source": [
    "The critical value for this test at 3% significance level comes out to be 2.61 ppm. If you take more than 100 samples (with the same sample mean and standard deviation), how would the z-score and critical value change?"
   ]
  },
  {
   "cell_type": "markdown",
   "metadata": {},
   "source": [
    "The z-score would remain the same but the critical value would decrease\n",
    "Feedback : Since Zc is calculated from the given value of α (3%), it remains the same. Critical value is calculated using the formula: μ + Zc x (σ/​\n",
    "√\n",
    "N\n",
    "​), since it is an upper-tailed test. If you increase the value of N, the critical value would decrease according to the formula."
   ]
  },
  {
   "cell_type": "markdown",
   "metadata": {},
   "source": [
    "## Summary"
   ]
  },
  {
   "cell_type": "markdown",
   "metadata": {},
   "source": [
    "Summary\n",
    "So what did you learn in this session?\n",
    "\n",
    " \n",
    "\n",
    "Hypothesis — a claim or an assumption that you make about one or more population parameters\n",
    "Types of hypothesis:\n",
    "\n",
    "Null hypothesis (H₀) - Makes an assumption about the status quo\n",
    "                                     - Always contains the symbols ‘=’, ‘≤’ or ‘≥’\n",
    "\n",
    "Alternate hypothesis (H₁) - Challenges and complements the null hypothesis\n",
    "\n",
    "                                                                  - Always contains the symbols ‘≠’, ‘<’ or ‘>’\n",
    "\n",
    "Types of tests:\n",
    "Two-tailed test - The critical region lies on both sides of the distribution\n",
    "                             - The alternate hypothesis contains the ≠ sign\n",
    "Lower-tailed test - The critical region lies on the left side of the distribution\n",
    "                                - The alternate hypothesis contains the < sign\n",
    "Upper-tailed test - The critical region lies on the right side of the distribution\n",
    "                                                 - The alternate hypothesis contains the > sign\n",
    "\n",
    "Making a decision - Critical value method:\n",
    "\n",
    "Calculate the value of Zc from the given value of α (significance level)\n",
    "\n",
    "Calculate the critical values (UCV and LCV) from the value of Zc\n",
    "\n",
    "Make the decision on the basis of the value of the sample mean \n",
    "¯\n",
    "x\n",
    " with respect to the critical values (UCV AND LCV)"
   ]
  },
  {
   "cell_type": "markdown",
   "metadata": {},
   "source": [
    "## Graded Question "
   ]
  },
  {
   "cell_type": "markdown",
   "metadata": {},
   "source": [
    "Cadbury states that the average weight of one of its chocolate products ‘Dairy Milk Silk’ is 60 g. As an analyst on the internal Quality Assurance team, you would like to test whether, at the 2% significance level, the average weight is 60 g or not. A sample of 100 chocolates is collected and the sample mean size is calculated to be 62.6 g. The sample deviation, as calculated from the sample, is 10.7 g.\n",
    "\n",
    " \n",
    "\n",
    "Answer the following questions in order to draw a conclusion from the test."
   ]
  },
  {
   "cell_type": "markdown",
   "metadata": {},
   "source": [
    "What would be the Zc for the critical point/s in this case?"
   ]
  },
  {
   "cell_type": "code",
   "execution_count": 6,
   "metadata": {},
   "outputs": [
    {
     "name": "stdout",
     "output_type": "stream",
     "text": [
      "lower Significance Level 0.01 higher Significance Level 0.01\n",
      "Cumulative Probability =  0.99\n",
      "Zc = 2.33\n",
      "Sigma xbar = 1.07\n",
      "Product of zc and Sigma bar = 2.49\n",
      "UCV = 62.49 and LCV = 57.51\n",
      "Result = Don’t pass the test (H₀: average weight of one of its chocolate products ‘Dairy Milk Silk’ is 60 g)\n"
     ]
    }
   ],
   "source": [
    "Mean = 60 #Average Weight\n",
    "\n",
    "# Significance level 2%\n",
    "SignificanceLevel = 2/100\n",
    "print(\"lower Significance Level\", SignificanceLevel/2, \"higher Significance Level\", SignificanceLevel/2)\n",
    "\n",
    "# Area till UCV (cumulative probability of that point)\n",
    "CumulativeProbability = 1 - 0.01 #cumulative probability\n",
    "print(\"Cumulative Probability = \", CumulativeProbability)\n",
    "\n",
    "# Cumulative Probability =  0.99 So, you need to find the z-score of 0.99 from z table which is 2.33\n",
    "Zc = 2.33\n",
    "print(\"Zc =\", Zc)\n",
    "# For a 2% significance level, you would have two critical regions on both sides with a total area of 0.02 \n",
    "# (because you want to test if the average weight of the chocolate is greater than or less than 60 g). \n",
    "# So, the area of the critical region on the right side would be 0.01, which means that the area till UCV \n",
    "# (cumulative probability of that point) would be 1 - 0.01 = 0.99. So, you need to find the z-value of 0.99. \n",
    "# The z-score for 0.9901 in the z-table is 2.33 (2.3 on the horizontal axis and 0.03 on the vertical axis). \n",
    "# So, you can take the z-score for either 0.9901 for 0.99.\n",
    "\n",
    "N = 100 #Sample Size\n",
    "xbar = 62.6 #Sample Mean\n",
    "sigma = 10.7 #Sample Deviation\n",
    "\n",
    "sigmaxbar = round(sigma/np.sqrt(n), 2)\n",
    "print(\"Sigma xbar =\", sigmaxbar)\n",
    "\n",
    "prodofzcSigmabar = round(Zc * sigmaxbar, 2)\n",
    "print(\"Product of zc and Sigma bar =\", prodofzcSigmabar)\n",
    "\n",
    "UCV = Mean + (prodofzcSigmabar)\n",
    "LCV = Mean - (prodofzcSigmabar)\n",
    "\n",
    "print(\"UCV =\", round(UCV, 2), \"and\", \"LCV =\", round(LCV, 2))\n",
    "\n",
    "if xbar > UCV or xbar < LCV: # Decision = reject the null hypothesis \n",
    "    print(\"Result = Don’t pass the test (H₀: average weight of one of its chocolate products ‘Dairy Milk Silk’ is 60 g)\")\n",
    "else: # Decision = Fail to reject the null hypothesis\n",
    "    print(\"Result = Pass the test (H₀: average weight of one of its chocolate products ‘Dairy Milk Silk’ is 60 g)\")\n"
   ]
  },
  {
   "cell_type": "markdown",
   "metadata": {},
   "source": [
    "UCV = 62.49 g, LCV = 57.51 g and Result = Don’t pass the test\n",
    "\n",
    "The critical values can be calculated from μ ± Zc x (σ/​\n",
    "√\n",
    "N\n",
    "​) as 60g ± 2.33(10.7 /\n",
    "√\n",
    "100\n",
    ") = 60g ± 2.49g which comes out to be 62.49 g and 57.51 g. Since 62.6 g is greater than the UVC of 62.49, which means the sample mean lies outside the range of the critical values, you reject the null hypothesis that the average weight of the chocolate is 60 g. So, the QA would not pass this test."
   ]
  }
 ],
 "metadata": {
  "kernelspec": {
   "display_name": "Python 3",
   "language": "python",
   "name": "python3"
  },
  "language_info": {
   "codemirror_mode": {
    "name": "ipython",
    "version": 3
   },
   "file_extension": ".py",
   "mimetype": "text/x-python",
   "name": "python",
   "nbconvert_exporter": "python",
   "pygments_lexer": "ipython3",
   "version": "3.6.5"
  }
 },
 "nbformat": 4,
 "nbformat_minor": 2
}
