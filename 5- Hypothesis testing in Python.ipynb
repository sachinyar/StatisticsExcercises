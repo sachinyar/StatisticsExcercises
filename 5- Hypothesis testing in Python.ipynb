{
 "cells": [
  {
   "cell_type": "markdown",
   "metadata": {},
   "source": [
    "You can easily do hypothesis testing in Python by using stats from Scipy library.\n",
    "\n",
    "1-sample t-test: testing the value of a population mean\n",
    "To test, if the population mean of data is likely to be equal to a given value\n",
    "\n",
    "scipy.stats.ttest_1samp()\n",
    "\n",
    "stats.ttest_1samp(data['column'], x)\n",
    "#where x is the mean value you want to test "
   ]
  },
  {
   "cell_type": "code",
   "execution_count": 4,
   "metadata": {},
   "outputs": [
    {
     "data": {
      "text/plain": [
       "Ttest_1sampResult(statistic=11.443287227858697, pvalue=3.1619525515079005e-22)"
      ]
     },
     "execution_count": 4,
     "metadata": {},
     "output_type": "execute_result"
    }
   ],
   "source": [
    "import numpy as np\n",
    "import pandas as pd\n",
    "from scipy import stats\n",
    "\n",
    "cohort_df= pd.read_csv(\"CohortData.csv\")\n",
    "#print(cohort_df.head())\n",
    "#print(cohort_df.describe())\n",
    "\n",
    "cohort_df['dfexp'] = cohort_df['YearsOfExp'].str.extract('(\\d+)')\n",
    "cohort_df['dfexp'] = cohort_df.dfexp.astype(int)\n",
    "\n",
    "stats.ttest_1samp(cohort_df['dfexp'], 5)"
   ]
  },
  {
   "cell_type": "markdown",
   "metadata": {},
   "source": [
    "2-sample t-test: testing for difference across populations\n",
    "scipy.stats.ttest_ind()\n",
    "\n",
    "stats.ttest_ind(column_1,column_2) \n",
    "\n",
    " \n",
    "\n",
    "Paired tests: repeated measurements on the same individuals\n",
    "stats.ttest_rel()  \n",
    "\n",
    "stats.ttest_rel(column_1,column_2)  \n"
   ]
  },
  {
   "cell_type": "code",
   "execution_count": 6,
   "metadata": {},
   "outputs": [
    {
     "data": {
      "text/plain": [
       "Ttest_indResult(statistic=-3.044374137817851, pvalue=0.0025369155342556695)"
      ]
     },
     "execution_count": 6,
     "metadata": {},
     "output_type": "execute_result"
    }
   ],
   "source": [
    "cohort_df['dfNewexp'] = cohort_df['YearsOfExp'].str.extract('(\\d+)')\n",
    "cohort_df['dfNewexp'] = cohort_df.dfNewexp.astype(int) + 1\n",
    "\n",
    "stats.ttest_ind(cohort_df['dfexp'], cohort_df['dfNewexp']) "
   ]
  },
  {
   "cell_type": "markdown",
   "metadata": {},
   "source": [
    "Paired tests: repeated measurements on the same individuals stats.ttest_rel()\n",
    "\n",
    "stats.ttest_rel(column_1,column_2)"
   ]
  },
  {
   "cell_type": "code",
   "execution_count": 7,
   "metadata": {},
   "outputs": [
    {
     "data": {
      "text/plain": [
       "Ttest_relResult(statistic=-3.3348221056168836e+16, pvalue=0.0)"
      ]
     },
     "execution_count": 7,
     "metadata": {},
     "output_type": "execute_result"
    }
   ],
   "source": [
    "cohort_df['dfNew2exp'] = cohort_df['YearsOfExp'].str.extract('(\\d+)')\n",
    "cohort_df['dfNew2exp'] = cohort_df.dfNew2exp.astype(int) + 0.09\n",
    "\n",
    "stats.ttest_rel(cohort_df['dfexp'], cohort_df['dfNew2exp']) "
   ]
  }
 ],
 "metadata": {
  "kernelspec": {
   "display_name": "Python 3",
   "language": "python",
   "name": "python3"
  },
  "language_info": {
   "codemirror_mode": {
    "name": "ipython",
    "version": 3
   },
   "file_extension": ".py",
   "mimetype": "text/x-python",
   "name": "python",
   "nbconvert_exporter": "python",
   "pygments_lexer": "ipython3",
   "version": "3.6.5"
  }
 },
 "nbformat": 4,
 "nbformat_minor": 2
}
