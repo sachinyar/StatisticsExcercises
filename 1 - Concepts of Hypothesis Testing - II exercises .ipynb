{
 "cells": [
  {
   "cell_type": "markdown",
   "metadata": {},
   "source": [
    "# p-value method "
   ]
  },
  {
   "cell_type": "markdown",
   "metadata": {},
   "source": [
    "After formulating the null and alternate hypotheses, the steps to follow in order to make a decision using the p-value method are as follows:\n",
    "\n",
    "Calculate the value of z-score for the sample mean point on the distribution\n",
    "Calculate the p-value from the cumulative probability for the given z-score using the z-table\n",
    "\n",
    "Make a decision on the basis of the p-value (multiply it by 2 for a two-tailed test) with respect to the given value of α (significance value).\n"
   ]
  },
  {
   "cell_type": "markdown",
   "metadata": {},
   "source": [
    "To find the correct p-value from the z-score, first find the cumulative probability by simply looking at the z-table, which gives you the area under the curve till that point."
   ]
  },
  {
   "cell_type": "markdown",
   "metadata": {},
   "source": [
    "Situation 1: The sample mean is on the right side of the distribution mean (the z-score is positive)\n",
    "\n",
    " \n",
    "\n",
    "Example: z-score for sample point = + 3.02"
   ]
  },
  {
   "cell_type": "markdown",
   "metadata": {},
   "source": [
    "Cumulative probability of sample point = 0.9987\n",
    "\n",
    " \n",
    "\n",
    "For one-tailed test  →    p = 1 - 0.9987 = 0.0013\n",
    "\n",
    "For two-tailed test  →    p = 2 (1 - 0.9987) = 2 * 0.0013 = 0.0026\n",
    "\n",
    " \n",
    "\n",
    "Situation 2: The sample mean is on the left side of the distribution mean (the z-score is negative)\n",
    "\n",
    " \n",
    "\n",
    "Example: z-score for sample point = -3.02        "
   ]
  },
  {
   "cell_type": "markdown",
   "metadata": {},
   "source": [
    "Cumulative probability of sample point = 0.0013\n",
    "\n",
    " \n",
    "\n",
    "For one-tailed test  →    p = 0.0013\n",
    "\n",
    "For two-tailed test  →    p = 2 * 0.0013 = 0.0026\n",
    "\n",
    " \n",
    "\n",
    "You can download the z-table from the attachment below. It will be useful in the subsequent questions."
   ]
  },
  {
   "cell_type": "markdown",
   "metadata": {},
   "source": [
    "## Problem 1"
   ]
  },
  {
   "cell_type": "markdown",
   "metadata": {},
   "source": [
    "You are working as a data analyst at an auditing firm. A manufacturer claims that the average life of its product is 36 months. An auditor selects a sample of 49 units of the product, and calculates the average life to be 34.5 months. The population standard deviation is 4 months. Test the manufacturer’s claim at 3% significance level using the p-value method.\n",
    "\n",
    " \n",
    "\n",
    "First, formulate the hypotheses for this two-tailed test, which would be:\n",
    "\n",
    " \n",
    "\n",
    "                                   H₀: μ = 36 months and H₁: μ ≠ 36 months\n",
    "\n",
    " \n",
    "\n",
    "Now, you need to follow the three steps to find the p-value and make a decision.\n",
    "\n",
    " \n",
    "\n",
    "Try out the three-step process by answering the following questions."
   ]
  },
  {
   "cell_type": "markdown",
   "metadata": {},
   "source": [
    "Step 1: Calculate the value of z-score for the sample mean point on the distribution. Calculate z-score for sample mean (\n",
    "¯\n",
    "x\n",
    ") = 34.5 months."
   ]
  },
  {
   "cell_type": "markdown",
   "metadata": {},
   "source": [
    "z = (¯x - μ)/sigma x bar\n",
    "\n",
    " You can calculate the z-score for sample mean 34.5 months using the formula: (​​\n",
    "¯\n",
    "x\n",
    "​ - μ) / (σ/​\n",
    "√\n",
    "x\n",
    "​). This gives you (34.5 - 36) / (4/\n",
    "√\n",
    "49\n",
    ") = (-1.5) * 7/4 = -2.62. Notice that, since the sample mean lies on the left side of the hypothesised mean of 36 months, the z-score comes out to be negative."
   ]
  },
  {
   "cell_type": "code",
   "execution_count": 1,
   "metadata": {},
   "outputs": [],
   "source": [
    "import numpy as np\n",
    "\n",
    "ho = \"the average lifespan of the manufacturer's product is 36 months.\"\n",
    "populationN = 49\n",
    "standerdDeviationSigma = 4 #population Standerd Deviation\n",
    "sampleMeanXbar = 34.5\n",
    "populationMeanMue = 36\n",
    "significanceLevel = 3/100"
   ]
  },
  {
   "cell_type": "code",
   "execution_count": 2,
   "metadata": {},
   "outputs": [
    {
     "name": "stdout",
     "output_type": "stream",
     "text": [
      "sigma x =  0.57\n",
      "Z value = -2.63\n"
     ]
    }
   ],
   "source": [
    "sigmax = round(standerdDeviationSigma/np.sqrt(populationN),2)\n",
    "print(\"sigma x = \", sigmax)\n",
    "\n",
    "Z = round((sampleMeanXbar - populationMeanMue) / sigmax, 2)\n",
    "print(\"Z value =\", Z)"
   ]
  },
  {
   "cell_type": "markdown",
   "metadata": {},
   "source": [
    "Step 2: Calculate the p-value from the cumulative probability for the given z-score using the z-table.\n",
    "https://cdn.upgrad.com/UpGrad/temp/0ed10b23-e5f1-4299-9302-39658c3a4e56/z-table.pdf\n",
    "\n",
    "Find out the p-value for the z-score of -2.62 (corresponding to the sample mean of 34.5 months). \n",
    "\n",
    "Hint: The sample mean is on the left side of the distribution and it is a two-tailed test.\n",
    "\n",
    "from z table 0.0044 is the Cumulative probability of sample point\n",
    "\n",
    "For one-tailed test  →    p = 0.0044\n",
    "\n",
    "For two-tailed test  →    p = 2 * 0.0044 = 0.0088\n",
    "\n",
    "The value in the z-table corresponding to -2.6 on the vertical axis and 0.02 on the horizontal axis is 0.0044. Since the sample mean is on the left side of the distribution and this is a two-tailed test, the p-value would be 2 * 0.0044 = 0.0088."
   ]
  },
  {
   "cell_type": "code",
   "execution_count": 3,
   "metadata": {},
   "outputs": [
    {
     "name": "stdout",
     "output_type": "stream",
     "text": [
      "p = 0.0088\n"
     ]
    }
   ],
   "source": [
    "CumulativeProbabOfSamplePoint = 0.0044 #Cumulative probability of sample point\n",
    "p = 2 * CumulativeProbabOfSamplePoint #two-tailed test\n",
    "print(\"p =\", p)"
   ]
  },
  {
   "cell_type": "markdown",
   "metadata": {},
   "source": [
    "Step 3: Make the decision on the basis of the p-value with respect to the given value of α (significance value).\n",
    "\n",
    "What would be the result of this hypothesis test?\n",
    "\n",
    "Here, the p-value comes out to be 2 * 0.0044 = 0.0088. Since the p-value is less than the significance level (0.0088 < 0.03), you reject the null hypothesis that the average lifespan of the manufacturer's product is 36 months."
   ]
  },
  {
   "cell_type": "code",
   "execution_count": 4,
   "metadata": {},
   "outputs": [
    {
     "name": "stdout",
     "output_type": "stream",
     "text": [
      "Significance Level = 0.03\n",
      "Since the p-value is less than the significance level ( 0.0088 < 0.03 ) , Reject the null hypothesis that the average lifespan of the manufacturer's product is 36 months.\n"
     ]
    }
   ],
   "source": [
    "print(\"Significance Level =\", significanceLevel)\n",
    "\n",
    "if p >= significanceLevel:\n",
    "    print(\"Since the p-value is greater than or equal to the significance level (\",\n",
    "          p, \">=\", significanceLevel, \n",
    "          \") , Fail to reject the null hypothesis\", ho)\n",
    "else:\n",
    "    print(\"Since the p-value is less than the significance level (\",\n",
    "          p, \"<\", significanceLevel, \n",
    "          \") , Reject the null hypothesis that\", ho)\n"
   ]
  },
  {
   "cell_type": "markdown",
   "metadata": {},
   "source": [
    "## Problem 2"
   ]
  },
  {
   "cell_type": "markdown",
   "metadata": {},
   "source": [
    "Let’s say you work at a pharmaceutical company that manufactures an antipyretic drug in tablet form, with paracetamol as the active ingredient. An antipyretic drug reduces fever. The amount of paracetamol deemed safe by the drug regulatory authorities is 500 mg. If the value of paracetamol is too low, it will make the drug ineffective and become a quality issue for your company. On the other hand, a value that is too high would become a serious regulatory issue.\n",
    "\n",
    " \n",
    "\n",
    "There are 10 identical manufacturing lines in the pharma plant, each of which produces approximately 10,000 tablets per hour.\n",
    "\n",
    " \n",
    "\n",
    "Your task is to take a few samples, measure the amount of paracetamol in them, and test the hypothesis that the manufacturing process is running successfully, i.e. the paracetamol content is within regulation. You have the time and resources to take about 900 sample tablets and measure the paracetamol content in each.\n",
    "\n",
    " \n",
    "\n",
    "Upon sampling 900 tablets, you get an average content of 510 mg with a standard deviation of 110. What does the test suggest, if you set the significance level at 5%? Should you be happy with the manufacturing process or should you ask the production team to alter the process? Is it a regulatory alarm or a quality issue?\n",
    "\n",
    " \n",
    "\n",
    "Solve the following questions in order to find out the answers to the questions stated above.\n",
    "\n",
    " \n",
    "\n",
    "One thing you can notice here is that the standard deviation of the sample of 900 is given as 110, instead of the population’s standard deviation. In such a case, you can use the sample standard deviation (110 in this case) to calculate an approximate population standard deviation."
   ]
  },
  {
   "cell_type": "code",
   "execution_count": 5,
   "metadata": {},
   "outputs": [],
   "source": [
    "ho = \"the manufacturing process is running successfully, i.e. the paracetamol content is within regulation value of 500 mg.\"\n",
    "populationN = 900\n",
    "standerdDeviationSampleSigma = 110 # standard deviation of the sample of 900 \n",
    "sampleMeanXbar = 510\n",
    "populationMeanMue = 500\n",
    "significanceLevel = 5/100\n",
    "standerdDeviationSigma = standerdDeviationSampleSigma #population Standerd Deviation"
   ]
  },
  {
   "cell_type": "markdown",
   "metadata": {},
   "source": [
    "Calculate the z-score for sample mean (\n",
    "¯\n",
    "x\n",
    ") = 510 mg.\n",
    "\n",
    "You can calculate the z-score for the sample mean 510 mg using the formula: (​\n",
    "¯\n",
    "x\n",
    "​ - μ) / (σ /​\n",
    "√\n",
    "N\n",
    "​). This gives you (510 - 500) / (110 /\n",
    "√\n",
    "900\n",
    ") = (10) / (110 / 30) = 2.73. Notice that, since the sample mean lies on the right side of the hypothesised mean of 500 mg, the z-score comes out to be positive."
   ]
  },
  {
   "cell_type": "code",
   "execution_count": 6,
   "metadata": {},
   "outputs": [
    {
     "name": "stdout",
     "output_type": "stream",
     "text": [
      "sigma x =  3.67\n",
      "Z value = 2.72\n"
     ]
    }
   ],
   "source": [
    "sigmax = round(standerdDeviationSigma/np.sqrt(populationN),2)\n",
    "print(\"sigma x = \", sigmax)\n",
    "\n",
    "Z = round((sampleMeanXbar - populationMeanMue) / sigmax, 2)\n",
    "print(\"Z value =\", Z)"
   ]
  },
  {
   "cell_type": "markdown",
   "metadata": {},
   "source": [
    "Find out the p-value for the z-score of 2.73 (corresponding to the sample mean of 510 mg).\n",
    "\n",
    "The sample mean is on the right side of the distribution mean (the z-score is positive)\n",
    "\n",
    "Check out the value in the z-table corresponding to 2.7 on the vertical axis and 0.03 on the horizontal axis. This would give you the cumulative area till the sample mean point. As the sample mean is on the right-hand side and this is a two-tail test (because if we want to test if the value of the paracetamol is too low or too high), subtract the cumulative area from 1 and multiply it by 2 to get the p-value r.\n",
    "\n",
    "Cumulative probability of sample point = 0.9968\n",
    "\n",
    "For one-tailed test → p = 1 - 0.9968 = 0.0031999999999999806\n",
    "\n",
    "For two-tailed test → p = 2 * (1 - 0.9968) = 0.006399999999999961"
   ]
  },
  {
   "cell_type": "code",
   "execution_count": 7,
   "metadata": {},
   "outputs": [
    {
     "name": "stdout",
     "output_type": "stream",
     "text": [
      "P = 0.0064\n"
     ]
    }
   ],
   "source": [
    "CumulativeProbabOfSamplePoint = 0.9968 #Cumulative probability of sample point\n",
    "p = 2 * round(1 - CumulativeProbabOfSamplePoint, 4) #two-tailed test\n",
    "print(\"P =\", p)"
   ]
  },
  {
   "cell_type": "markdown",
   "metadata": {},
   "source": [
    "The value in the z-table corresponding to 2.7 on the vertical axis and 0.03 on the horizontal axis is 0.9968. Since the sample mean is on the right side of the distribution and this is a two-tailed test (because we want to test if the value of the paracetamol is too low or too high), the p-value would be 2 * (1 - 0.9968) = 2 * 0.0032 = 0.0064."
   ]
  },
  {
   "cell_type": "markdown",
   "metadata": {},
   "source": [
    "What decision would you make about the manufacturing process from this hypothesis test?"
   ]
  },
  {
   "cell_type": "code",
   "execution_count": 8,
   "metadata": {},
   "outputs": [
    {
     "name": "stdout",
     "output_type": "stream",
     "text": [
      "Significance Level = 0.05\n",
      "Since the p-value is less than the significance level ( 0.0064 < 0.05 ) , Reject the null hypothesis that the manufacturing process is running successfully, i.e. the paracetamol content is within regulation value of 500 mg.\n",
      "The manufacturing process is not fine and changes need to be made\n"
     ]
    }
   ],
   "source": [
    "print(\"Significance Level =\", significanceLevel)\n",
    "\n",
    "if p >= significanceLevel:\n",
    "    print(\"Since the p-value is greater than or equal to the significance level (\",\n",
    "          p, \">=\", significanceLevel, \n",
    "          \") , Fail to reject the null hypothesis\", ho)\n",
    "    print(\"The manufacturing process is completely fine and need not be changed\")\n",
    "else:\n",
    "    print(\"Since the p-value is less than the significance level (\",\n",
    "          p, \"<\", significanceLevel, \n",
    "          \") , Reject the null hypothesis that\", ho)\n",
    "    print(\"The manufacturing process is not fine and changes need to be made\")"
   ]
  },
  {
   "cell_type": "markdown",
   "metadata": {},
   "source": [
    "Here, the p-value comes out to be 0.0064. Since the p-value is less than the significance level (0.0064 < 0.05) and smaller p-value gives you greater evidence against the null hypothesis. So you reject the null hypothesis that the average amount of paracetamol in medicines is 500 mg. So, this is a regulatory alarm for the company and the manufacturing process needs to change."
   ]
  },
  {
   "cell_type": "markdown",
   "metadata": {},
   "source": [
    "# Types Of Errors "
   ]
  },
  {
   "cell_type": "markdown",
   "metadata": {},
   "source": [
    "There are two types of errors that can result during the hypothesis testing process — type-I error and type-II error.\n",
    "\n",
    "A type I-error represented by α occurs when you reject a true null hypothesis.\n",
    "\n",
    "A type-II error represented by β occurs when you fail to reject a false null hypothesis.\n",
    "\n",
    "The power of any hypothesis test is defined by 1 - β. Power of the test or calculation of β is beyond the scope of this course. You can study more about power of a test from this link.\n",
    "\n",
    "reducing the probability of a type-I error may increase the probability of making a type-II error.\n",
    "\n",
    "Type-I error occurs when the null hypothesis is rejected when it is in fact correct\n",
    "Feedback : Type-I error occurs when the null hypothesis is true (i.e. the sample mean lies in the acceptance region) but you incorrectly reject it.\n",
    "\n",
    "Type II error occurs when the null hypothesis is not rejected when it is in fact incorrect\n",
    "Feedback : Type-II error occurs when the null hypothesis is not true (i.e. the sample mean lies in the critical region) but you incorrectly fail to reject the null hypothesis."
   ]
  },
  {
   "cell_type": "markdown",
   "metadata": {},
   "source": [
    "Suppose the null hypothesis is that a particular new process is as good as or better than the old one. A type-I error is to conclude that:\n",
    "\n",
    "The old process is better than the new one, when it is not\n",
    "Feedback : Type-I error means incorrectly rejecting a true null hypothesis. So, type-1 error means that the null hypothesis is true, i.e. the new process is as good as or better than the old one, but you reject it, i.e. you conclude that the old process is better."
   ]
  },
  {
   "cell_type": "markdown",
   "metadata": {},
   "source": [
    "## Graded Q "
   ]
  },
  {
   "cell_type": "markdown",
   "metadata": {},
   "source": [
    "Suppose you conduct a hypothesis test and observe that the values of the sample mean and sample standard deviation when n = 25 do not lead to the rejection of the null hypothesis. You calculate the p-value as 0.0667. What would happen to the p-value if you observe the same sample mean and sample standard deviation for a larger sample size, say greater than 50?\n",
    "\n",
    "Decrease\n",
    "\n",
    "Feedback : With an increase in the sample size, the denominator of the z-score decreases, and thus the absolute value of Z-score increases, which means that the sample mean would move away from the central tendency towards the tails. This means that the p-value would actually decrease. Conceptually, Increasing the sample size will make the distribution of sample means narrower, and chance of sample mean falling in the critical region decreases. So p-value will decrease."
   ]
  },
  {
   "cell_type": "markdown",
   "metadata": {},
   "source": [
    "Consider the null hypothesis that a process produces no more than the maximum permissible rate of defective items. In this situation, a type-II error would be:\n",
    "\n",
    "To conclude that the process does not produce more than the maximum permissible rate of defective items, when it actually does\n",
    "\n",
    "Feedback : Type-II error means not rejecting the incorrect null hypothesis. So, a type-II error would signify that the null hypothesis is actually incorrect, i.e. the process actually produces more than the maximum permissible rate of defective items, but you fail to reject it, i.e. you think it does not produce more than the maximum permissible rate of defective items."
   ]
  },
  {
   "cell_type": "code",
   "execution_count": null,
   "metadata": {},
   "outputs": [],
   "source": []
  }
 ],
 "metadata": {
  "kernelspec": {
   "display_name": "Python 3",
   "language": "python",
   "name": "python3"
  },
  "language_info": {
   "codemirror_mode": {
    "name": "ipython",
    "version": 3
   },
   "file_extension": ".py",
   "mimetype": "text/x-python",
   "name": "python",
   "nbconvert_exporter": "python",
   "pygments_lexer": "ipython3",
   "version": "3.6.5"
  }
 },
 "nbformat": 4,
 "nbformat_minor": 2
}
